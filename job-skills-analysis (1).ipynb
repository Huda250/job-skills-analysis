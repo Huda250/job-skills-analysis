{
 "cells": [
  {
   "cell_type": "code",
   "execution_count": null,
   "id": "8f428e6f-21b3-4904-a3a1-87c123bf3a6c",
   "metadata": {},
   "outputs": [],
   "source": [
    "#imported necessary libraries\n",
    "import pandas as pd\n",
    "import matplotlib.pyplot as plt\n",
    "#load the data\n",
    "df=pd.read_csv('postings.csv')"
   ]
  },
  {
   "cell_type": "code",
   "execution_count": null,
   "id": "35eafd87-6251-4adc-be7d-738c9b25a88e",
   "metadata": {},
   "outputs": [],
   "source": [
    "#explore data set\n",
    "df.info()\n",
    "df.head()"
   ]
  },
  {
   "cell_type": "code",
   "execution_count": null,
   "id": "b4198371-7ae9-40cf-ac27-bb6ec542dc78",
   "metadata": {},
   "outputs": [],
   "source": [
    "#data cleaning :handling missing data and removing irrelevant columns\n",
    "df=df.dropna(subset=['job_summary','job_skills'])\n",
    "df=df.drop(['job_link','first_seen'],axis=1)\n",
    "df.head()\n"
   ]
  },
  {
   "cell_type": "code",
   "execution_count": null,
   "id": "1d9d568c-201e-47b5-8d6e-2390f428a8b3",
   "metadata": {},
   "outputs": [],
   "source": [
    "#text analysis + cleaning \n",
    "job_skills_series= df['job_skills'].str.lower().str.split(',').explode().str.strip()\n",
    "#further data cleaning \n",
    "job_skills_series=job_skills_series.replace({'microsoft excel':'excel','communication skills':'communication','visualization':'data visaulization','dashboards':'data visaulization','problemsolving':'problem solving','collaboration':'teamwork','powerbi':'power bi','tableau software':'tableau',})\n",
    "job_skills_count=job_skills_series.value_counts()\n",
    "print(job_skills_count.head(30))"
   ]
  },
  {
   "cell_type": "code",
   "execution_count": null,
   "id": "80fd90eb-c7ed-417b-81a2-e60a7eb052d3",
   "metadata": {},
   "outputs": [],
   "source": [
    "#plot (1)\n",
    "job_skills_count.head(10).plot(kind='barh',figsize=(10,6),color='skyblue')\n",
    "plt.title('Top 10 Most Required Skills For Data Analysts Job')\n",
    "plt.xlabel('Frequency')\n",
    "plt.ylabel('Skills')\n",
    "plt.gca().invert_yaxis()\n",
    "plt.show()"
   ]
  },
  {
   "cell_type": "code",
   "execution_count": null,
   "id": "f44ebf68-abcb-4b6d-8f2c-b9035f28ff99",
   "metadata": {},
   "outputs": [],
   "source": [
    "#split skills into two groups:\n",
    "tech_keyword = ['python','power bi','tableau','data modeling','sql','r','data mining']\n",
    "soft_keyword = ['communication','teamwork','analytical skills','problem solving','project management','collaboration']\n",
    "tech_skills = job_skills_series[job_skills_series.isin(tech_keyword)]\n",
    "soft_skills = job_skills_series[job_skills_series.isin(soft_keyword)]\n",
    "tech_count=tech_skills.value_counts()\n",
    "soft_count=soft_skills.value_counts()\n",
    "\n",
    "#plot (2)\n",
    "fig,axs=plt.subplots(1,2,figsize=(16,6))\n",
    "tech_count.plot(kind='barh',ax=axs[0],color='skyblue')\n",
    "axs[0].set_title('Top Technical Skills')\n",
    "axs[0].invert_yaxis()\n",
    "soft_count.plot(kind='barh',ax=axs[1],color='lightcoral')\n",
    "axs[1].set_title('Top Cognitive/Soft Skills')\n",
    "axs[1].invert_yaxis()\n",
    "plt.tight_layout()\n",
    "plt.show()"
   ]
  },
  {
   "cell_type": "code",
   "execution_count": null,
   "id": "69adb3ce-df2e-450b-9ea2-d054d9950782",
   "metadata": {},
   "outputs": [],
   "source": []
  }
 ],
 "metadata": {
  "kernelspec": {
   "display_name": "Python [conda env:base] *",
   "language": "python",
   "name": "conda-base-py"
  },
  "language_info": {
   "codemirror_mode": {
    "name": "ipython",
    "version": 3
   },
   "file_extension": ".py",
   "mimetype": "text/x-python",
   "name": "python",
   "nbconvert_exporter": "python",
   "pygments_lexer": "ipython3",
   "version": "3.12.7"
  }
 },
 "nbformat": 4,
 "nbformat_minor": 5
}
